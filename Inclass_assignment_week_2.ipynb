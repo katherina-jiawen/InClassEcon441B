{
  "nbformat": 4,
  "nbformat_minor": 0,
  "metadata": {
    "colab": {
      "provenance": [],
      "authorship_tag": "ABX9TyOVbQJjRr9oqMBvxGLvkHrI",
      "include_colab_link": true
    },
    "kernelspec": {
      "name": "python3",
      "display_name": "Python 3"
    },
    "language_info": {
      "name": "python"
    }
  },
  "cells": [
    {
      "cell_type": "markdown",
      "metadata": {
        "id": "view-in-github",
        "colab_type": "text"
      },
      "source": [
        "<a href=\"https://colab.research.google.com/github/katherina-jiawen/InClassEcon441B/blob/main/Inclass_assignment_week_2.ipynb\" target=\"_parent\"><img src=\"https://colab.research.google.com/assets/colab-badge.svg\" alt=\"Open In Colab\"/></a>"
      ]
    },
    {
      "cell_type": "markdown",
      "source": [
        "#1.) Import the data from CCLE into a new Google Colab file"
      ],
      "metadata": {
        "id": "bdgO-0oXXErG"
      }
    },
    {
      "cell_type": "code",
      "execution_count": null,
      "metadata": {
        "id": "Hg-XW4FPTHTQ"
      },
      "outputs": [],
      "source": [
        "import pandas as pd\n",
        "from google.colab import drive\n",
        "import matplotlib.pyplot as plt"
      ]
    },
    {
      "cell_type": "code",
      "source": [
        "drive.mount('/content/gdrive',force_remount = True)"
      ],
      "metadata": {
        "colab": {
          "base_uri": "https://localhost:8080/"
        },
        "id": "DMw9VqiXVvXD",
        "outputId": "1ef78e38-4a6e-4087-cd6d-4a93dce58a1c"
      },
      "execution_count": null,
      "outputs": [
        {
          "output_type": "stream",
          "name": "stdout",
          "text": [
            "Mounted at /content/gdrive\n"
          ]
        }
      ]
    },
    {
      "cell_type": "code",
      "source": [
        "df = pd.read_csv('/content/gdrive/MyDrive/UCLA/Econ 441B/insurance.csv')"
      ],
      "metadata": {
        "id": "5L2asSuhV2DY"
      },
      "execution_count": null,
      "outputs": []
    },
    {
      "cell_type": "markdown",
      "source": [],
      "metadata": {
        "id": "tk0rbKCDS3oq"
      }
    },
    {
      "cell_type": "code",
      "source": [
        "df.loc[df['sex'] == 'female','sex'] = 1.\n",
        "df.loc[df['sex'] == 'male','sex'] = 0.\n",
        "\n",
        "df.loc[df['smoker'] == 'yes','smoker'] = 1.\n",
        "df.loc[df['smoker'] == 'no','smoker'] = 0.\n",
        "\n",
        "\n",
        "df.loc[df['region'] == 'southwest','region1'] = 1.\n",
        "df.loc[df['region'] == 'southeast','region1'] = 0.\n",
        "df.loc[df['region'] == 'northwest','region1'] = 0.\n",
        "df.loc[df['region'] == 'northeast','region1'] = 0.\n",
        "\n",
        "df.loc[df['region'] == 'southwest','region2'] = 0.\n",
        "df.loc[df['region'] == 'southeast','region2'] = 1.\n",
        "df.loc[df['region'] == 'northwest','region2'] = 0.\n",
        "df.loc[df['region'] == 'northeast','region2'] = 0.\n",
        "\n",
        "\n",
        "df.loc[df['region'] == 'southwest','region3'] = 0.\n",
        "df.loc[df['region'] == 'southeast','region3'] = 0.\n",
        "df.loc[df['region'] == 'northwest','region3'] = 1.\n",
        "df.loc[df['region'] == 'northeast','region3'] = 0.\n",
        "\n",
        "df.loc[df['region'] == 'southwest','region4'] = 0.\n",
        "df.loc[df['region'] == 'southeast','region4'] = 0.\n",
        "df.loc[df['region'] == 'northwest','region4'] = 0.\n",
        "df.loc[df['region'] == 'northeast','region4'] = 1.\n"
      ],
      "metadata": {
        "id": "3ADUT9QOWtHt"
      },
      "execution_count": null,
      "outputs": []
    },
    {
      "cell_type": "code",
      "source": [
        "df.head()"
      ],
      "metadata": {
        "colab": {
          "base_uri": "https://localhost:8080/",
          "height": 204
        },
        "id": "Im4E-n19W8mm",
        "outputId": "28d728ab-9608-4e54-fd50-96ca5ab0ab41"
      },
      "execution_count": null,
      "outputs": [
        {
          "output_type": "execute_result",
          "data": {
            "text/plain": [
              "   age  sex     bmi  children smoker     region      charges  region1  \\\n",
              "0   19  1.0  27.900         0    1.0  southwest  16884.92400      1.0   \n",
              "1   18  0.0  33.770         1    0.0  southeast   1725.55230      0.0   \n",
              "2   28  0.0  33.000         3    0.0  southeast   4449.46200      0.0   \n",
              "3   33  0.0  22.705         0    0.0  northwest  21984.47061      0.0   \n",
              "4   32  0.0  28.880         0    0.0  northwest   3866.85520      0.0   \n",
              "\n",
              "   region2  region3  region4  \n",
              "0      0.0      0.0      0.0  \n",
              "1      1.0      0.0      0.0  \n",
              "2      1.0      0.0      0.0  \n",
              "3      0.0      1.0      0.0  \n",
              "4      0.0      1.0      0.0  "
            ],
            "text/html": [
              "\n",
              "  <div id=\"df-eef0a4c8-da6a-47b5-a247-30ad611f8295\">\n",
              "    <div class=\"colab-df-container\">\n",
              "      <div>\n",
              "<style scoped>\n",
              "    .dataframe tbody tr th:only-of-type {\n",
              "        vertical-align: middle;\n",
              "    }\n",
              "\n",
              "    .dataframe tbody tr th {\n",
              "        vertical-align: top;\n",
              "    }\n",
              "\n",
              "    .dataframe thead th {\n",
              "        text-align: right;\n",
              "    }\n",
              "</style>\n",
              "<table border=\"1\" class=\"dataframe\">\n",
              "  <thead>\n",
              "    <tr style=\"text-align: right;\">\n",
              "      <th></th>\n",
              "      <th>age</th>\n",
              "      <th>sex</th>\n",
              "      <th>bmi</th>\n",
              "      <th>children</th>\n",
              "      <th>smoker</th>\n",
              "      <th>region</th>\n",
              "      <th>charges</th>\n",
              "      <th>region1</th>\n",
              "      <th>region2</th>\n",
              "      <th>region3</th>\n",
              "      <th>region4</th>\n",
              "    </tr>\n",
              "  </thead>\n",
              "  <tbody>\n",
              "    <tr>\n",
              "      <th>0</th>\n",
              "      <td>19</td>\n",
              "      <td>1.0</td>\n",
              "      <td>27.900</td>\n",
              "      <td>0</td>\n",
              "      <td>1.0</td>\n",
              "      <td>southwest</td>\n",
              "      <td>16884.92400</td>\n",
              "      <td>1.0</td>\n",
              "      <td>0.0</td>\n",
              "      <td>0.0</td>\n",
              "      <td>0.0</td>\n",
              "    </tr>\n",
              "    <tr>\n",
              "      <th>1</th>\n",
              "      <td>18</td>\n",
              "      <td>0.0</td>\n",
              "      <td>33.770</td>\n",
              "      <td>1</td>\n",
              "      <td>0.0</td>\n",
              "      <td>southeast</td>\n",
              "      <td>1725.55230</td>\n",
              "      <td>0.0</td>\n",
              "      <td>1.0</td>\n",
              "      <td>0.0</td>\n",
              "      <td>0.0</td>\n",
              "    </tr>\n",
              "    <tr>\n",
              "      <th>2</th>\n",
              "      <td>28</td>\n",
              "      <td>0.0</td>\n",
              "      <td>33.000</td>\n",
              "      <td>3</td>\n",
              "      <td>0.0</td>\n",
              "      <td>southeast</td>\n",
              "      <td>4449.46200</td>\n",
              "      <td>0.0</td>\n",
              "      <td>1.0</td>\n",
              "      <td>0.0</td>\n",
              "      <td>0.0</td>\n",
              "    </tr>\n",
              "    <tr>\n",
              "      <th>3</th>\n",
              "      <td>33</td>\n",
              "      <td>0.0</td>\n",
              "      <td>22.705</td>\n",
              "      <td>0</td>\n",
              "      <td>0.0</td>\n",
              "      <td>northwest</td>\n",
              "      <td>21984.47061</td>\n",
              "      <td>0.0</td>\n",
              "      <td>0.0</td>\n",
              "      <td>1.0</td>\n",
              "      <td>0.0</td>\n",
              "    </tr>\n",
              "    <tr>\n",
              "      <th>4</th>\n",
              "      <td>32</td>\n",
              "      <td>0.0</td>\n",
              "      <td>28.880</td>\n",
              "      <td>0</td>\n",
              "      <td>0.0</td>\n",
              "      <td>northwest</td>\n",
              "      <td>3866.85520</td>\n",
              "      <td>0.0</td>\n",
              "      <td>0.0</td>\n",
              "      <td>1.0</td>\n",
              "      <td>0.0</td>\n",
              "    </tr>\n",
              "  </tbody>\n",
              "</table>\n",
              "</div>\n",
              "      <button class=\"colab-df-convert\" onclick=\"convertToInteractive('df-eef0a4c8-da6a-47b5-a247-30ad611f8295')\"\n",
              "              title=\"Convert this dataframe to an interactive table.\"\n",
              "              style=\"display:none;\">\n",
              "        \n",
              "  <svg xmlns=\"http://www.w3.org/2000/svg\" height=\"24px\"viewBox=\"0 0 24 24\"\n",
              "       width=\"24px\">\n",
              "    <path d=\"M0 0h24v24H0V0z\" fill=\"none\"/>\n",
              "    <path d=\"M18.56 5.44l.94 2.06.94-2.06 2.06-.94-2.06-.94-.94-2.06-.94 2.06-2.06.94zm-11 1L8.5 8.5l.94-2.06 2.06-.94-2.06-.94L8.5 2.5l-.94 2.06-2.06.94zm10 10l.94 2.06.94-2.06 2.06-.94-2.06-.94-.94-2.06-.94 2.06-2.06.94z\"/><path d=\"M17.41 7.96l-1.37-1.37c-.4-.4-.92-.59-1.43-.59-.52 0-1.04.2-1.43.59L10.3 9.45l-7.72 7.72c-.78.78-.78 2.05 0 2.83L4 21.41c.39.39.9.59 1.41.59.51 0 1.02-.2 1.41-.59l7.78-7.78 2.81-2.81c.8-.78.8-2.07 0-2.86zM5.41 20L4 18.59l7.72-7.72 1.47 1.35L5.41 20z\"/>\n",
              "  </svg>\n",
              "      </button>\n",
              "      \n",
              "  <style>\n",
              "    .colab-df-container {\n",
              "      display:flex;\n",
              "      flex-wrap:wrap;\n",
              "      gap: 12px;\n",
              "    }\n",
              "\n",
              "    .colab-df-convert {\n",
              "      background-color: #E8F0FE;\n",
              "      border: none;\n",
              "      border-radius: 50%;\n",
              "      cursor: pointer;\n",
              "      display: none;\n",
              "      fill: #1967D2;\n",
              "      height: 32px;\n",
              "      padding: 0 0 0 0;\n",
              "      width: 32px;\n",
              "    }\n",
              "\n",
              "    .colab-df-convert:hover {\n",
              "      background-color: #E2EBFA;\n",
              "      box-shadow: 0px 1px 2px rgba(60, 64, 67, 0.3), 0px 1px 3px 1px rgba(60, 64, 67, 0.15);\n",
              "      fill: #174EA6;\n",
              "    }\n",
              "\n",
              "    [theme=dark] .colab-df-convert {\n",
              "      background-color: #3B4455;\n",
              "      fill: #D2E3FC;\n",
              "    }\n",
              "\n",
              "    [theme=dark] .colab-df-convert:hover {\n",
              "      background-color: #434B5C;\n",
              "      box-shadow: 0px 1px 3px 1px rgba(0, 0, 0, 0.15);\n",
              "      filter: drop-shadow(0px 1px 2px rgba(0, 0, 0, 0.3));\n",
              "      fill: #FFFFFF;\n",
              "    }\n",
              "  </style>\n",
              "\n",
              "      <script>\n",
              "        const buttonEl =\n",
              "          document.querySelector('#df-eef0a4c8-da6a-47b5-a247-30ad611f8295 button.colab-df-convert');\n",
              "        buttonEl.style.display =\n",
              "          google.colab.kernel.accessAllowed ? 'block' : 'none';\n",
              "\n",
              "        async function convertToInteractive(key) {\n",
              "          const element = document.querySelector('#df-eef0a4c8-da6a-47b5-a247-30ad611f8295');\n",
              "          const dataTable =\n",
              "            await google.colab.kernel.invokeFunction('convertToInteractive',\n",
              "                                                     [key], {});\n",
              "          if (!dataTable) return;\n",
              "\n",
              "          const docLinkHtml = 'Like what you see? Visit the ' +\n",
              "            '<a target=\"_blank\" href=https://colab.research.google.com/notebooks/data_table.ipynb>data table notebook</a>'\n",
              "            + ' to learn more about interactive tables.';\n",
              "          element.innerHTML = '';\n",
              "          dataTable['output_type'] = 'display_data';\n",
              "          await google.colab.output.renderOutput(dataTable, element);\n",
              "          const docLink = document.createElement('div');\n",
              "          docLink.innerHTML = docLinkHtml;\n",
              "          element.appendChild(docLink);\n",
              "        }\n",
              "      </script>\n",
              "    </div>\n",
              "  </div>\n",
              "  "
            ]
          },
          "metadata": {},
          "execution_count": 103
        }
      ]
    },
    {
      "cell_type": "markdown",
      "source": [
        "#2.) Split the data into 80/20, in/out sample"
      ],
      "metadata": {
        "id": "Fiuio2Z5XUby"
      }
    },
    {
      "cell_type": "code",
      "source": [
        "import numpy as np"
      ],
      "metadata": {
        "id": "yRY5lEbAXLUO"
      },
      "execution_count": null,
      "outputs": []
    },
    {
      "cell_type": "code",
      "source": [
        "df_subset = df[['age','sex','bmi','children','smoker','region1','region2','region3','region4']]"
      ],
      "metadata": {
        "id": "0REuMjjjYGcZ"
      },
      "execution_count": null,
      "outputs": []
    },
    {
      "cell_type": "code",
      "source": [
        "data = np.array(df_subset)\n",
        "target = np.array(df.iloc[:,6])\n",
        "# get all the data excepts the one we need to predict (charges)"
      ],
      "metadata": {
        "id": "kWj7k2ARZSDO"
      },
      "execution_count": null,
      "outputs": []
    },
    {
      "cell_type": "code",
      "source": [
        "data"
      ],
      "metadata": {
        "colab": {
          "base_uri": "https://localhost:8080/"
        },
        "id": "6VHbr81aYu-Y",
        "outputId": "7c8b38aa-2776-4072-95cf-97e1bc5162ba"
      },
      "execution_count": null,
      "outputs": [
        {
          "output_type": "execute_result",
          "data": {
            "text/plain": [
              "array([[19, 1.0, 27.9, ..., 0.0, 0.0, 0.0],\n",
              "       [18, 0.0, 33.77, ..., 1.0, 0.0, 0.0],\n",
              "       [28, 0.0, 33.0, ..., 1.0, 0.0, 0.0],\n",
              "       ...,\n",
              "       [18, 1.0, 36.85, ..., 1.0, 0.0, 0.0],\n",
              "       [21, 1.0, 25.8, ..., 0.0, 0.0, 0.0],\n",
              "       [61, 1.0, 29.07, ..., 0.0, 1.0, 0.0]], dtype=object)"
            ]
          },
          "metadata": {},
          "execution_count": 149
        }
      ]
    },
    {
      "cell_type": "code",
      "source": [
        "target"
      ],
      "metadata": {
        "colab": {
          "base_uri": "https://localhost:8080/"
        },
        "id": "5emSaehEZgej",
        "outputId": "89983c2b-8eaa-4d23-b1a4-c4dcf8a8c536"
      },
      "execution_count": null,
      "outputs": [
        {
          "output_type": "execute_result",
          "data": {
            "text/plain": [
              "array([16884.924 ,  1725.5523,  4449.462 , ...,  1629.8335,  2007.945 ,\n",
              "       29141.3603])"
            ]
          },
          "metadata": {},
          "execution_count": 150
        }
      ]
    },
    {
      "cell_type": "code",
      "source": [
        "cut = int((len(data)*.8)//1) #split the data into 80/20"
      ],
      "metadata": {
        "id": "5_KOTDA8Zrjz"
      },
      "execution_count": null,
      "outputs": []
    },
    {
      "cell_type": "code",
      "source": [
        "in_data = data[:cut]\n",
        "out_data = data[cut:]\n",
        "\n",
        "in_target = target[:cut]\n",
        "out_target = target[cut:]"
      ],
      "metadata": {
        "id": "OVCa3G4oZ3aK"
      },
      "execution_count": null,
      "outputs": []
    },
    {
      "cell_type": "markdown",
      "source": [
        "#3.) Normalize the Data "
      ],
      "metadata": {
        "id": "G51Jwn73Ziom"
      }
    },
    {
      "cell_type": "code",
      "source": [
        "from sklearn import preprocessing "
      ],
      "metadata": {
        "id": "xHbkmyePc7EL"
      },
      "execution_count": null,
      "outputs": []
    },
    {
      "cell_type": "code",
      "source": [
        "in_data"
      ],
      "metadata": {
        "colab": {
          "base_uri": "https://localhost:8080/"
        },
        "id": "lytZ7BPwh9cq",
        "outputId": "7b5f22f0-603c-4081-c282-c0d40592951a"
      },
      "execution_count": null,
      "outputs": [
        {
          "output_type": "execute_result",
          "data": {
            "text/plain": [
              "array([[19, 1.0, 27.9, ..., 0.0, 0.0, 0.0],\n",
              "       [18, 0.0, 33.77, ..., 1.0, 0.0, 0.0],\n",
              "       [28, 0.0, 33.0, ..., 1.0, 0.0, 0.0],\n",
              "       ...,\n",
              "       [39, 0.0, 42.655, ..., 0.0, 0.0, 1.0],\n",
              "       [63, 0.0, 21.66, ..., 0.0, 1.0, 0.0],\n",
              "       [54, 1.0, 31.9, ..., 1.0, 0.0, 0.0]], dtype=object)"
            ]
          },
          "metadata": {},
          "execution_count": 154
        }
      ]
    },
    {
      "cell_type": "code",
      "source": [
        "scaler = preprocessing.StandardScaler().fit(in_data)"
      ],
      "metadata": {
        "id": "KTVZNuqdlwJi"
      },
      "execution_count": null,
      "outputs": []
    },
    {
      "cell_type": "code",
      "source": [
        "in_data_scale = scaler.transform(in_data)\n",
        "\n",
        "out_data_scale = scaler.transform(out_data)"
      ],
      "metadata": {
        "id": "ex7gGPkIdIrR"
      },
      "execution_count": null,
      "outputs": []
    },
    {
      "cell_type": "markdown",
      "source": [
        "#4.) Get lambda from Lasso cross validation"
      ],
      "metadata": {
        "id": "S7V-PWb9WMX6"
      }
    },
    {
      "cell_type": "code",
      "source": [
        "from sklearn.linear_model import LassoCV"
      ],
      "metadata": {
        "id": "2Dcp4HulfsCN"
      },
      "execution_count": null,
      "outputs": []
    },
    {
      "cell_type": "code",
      "source": [
        "#import LassoCV\n",
        "modCV = LassoCV().fit(in_data_scale, in_target)"
      ],
      "metadata": {
        "id": "Jhm8j4zcWQjs"
      },
      "execution_count": null,
      "outputs": []
    },
    {
      "cell_type": "code",
      "source": [
        "a = modCV.alpha_ #Optimized Lambda"
      ],
      "metadata": {
        "id": "rKiI5jxwWZJQ"
      },
      "execution_count": null,
      "outputs": []
    },
    {
      "cell_type": "code",
      "source": [
        "a"
      ],
      "metadata": {
        "colab": {
          "base_uri": "https://localhost:8080/"
        },
        "id": "QOIt9KnAgHVU",
        "outputId": "b0fdd702-5b6a-4b9b-a760-4a555cdeb020"
      },
      "execution_count": null,
      "outputs": [
        {
          "output_type": "execute_result",
          "data": {
            "text/plain": [
              "176.27926602952408"
            ]
          },
          "metadata": {},
          "execution_count": 143
        }
      ]
    },
    {
      "cell_type": "markdown",
      "source": [
        "#5.) Run a lasso regression with that Lambda\n",
        "\n"
      ],
      "metadata": {
        "id": "BZ-omJPVf8dx"
      }
    },
    {
      "cell_type": "code",
      "source": [
        "from sklearn.linear_model import Lasso\n",
        "mod1 = Lasso(alpha = a).fit(in_data_scale, in_target)\n",
        "mod1.predict(np.array(in_data_scale))\n",
        "mod1.coef_"
      ],
      "metadata": {
        "colab": {
          "base_uri": "https://localhost:8080/"
        },
        "id": "gM5V19rNf5GM",
        "outputId": "f62268e4-6c80-4384-9cf0-e79598949975"
      },
      "execution_count": null,
      "outputs": [
        {
          "output_type": "execute_result",
          "data": {
            "text/plain": [
              "array([3528.01787345,    0.        , 1826.2934732 ,  357.05497525,\n",
              "       9280.59465836,  -65.23906777,   -0.        ,    0.        ,\n",
              "        184.60600107])"
            ]
          },
          "metadata": {},
          "execution_count": 159
        }
      ]
    },
    {
      "cell_type": "markdown",
      "source": [
        "#6.) Visualize the coefficients "
      ],
      "metadata": {
        "id": "O8CtQdH0hUVd"
      }
    },
    {
      "cell_type": "code",
      "source": [
        "x_axis = (['age','sex','bmi','children', 'smoker','region1','region2','region3','region4'])\n",
        "y_axis = mod1.coef_\n",
        "\n",
        "plt.bar(x_axis, y_axis)\n",
        "plt.title('coefficient plot')\n",
        "plt.xlabel('coefficient')\n",
        "plt.ylabel('value')\n",
        "plt.show()"
      ],
      "metadata": {
        "colab": {
          "base_uri": "https://localhost:8080/",
          "height": 295
        },
        "id": "FIZGCzJipq1a",
        "outputId": "9b80f927-251e-4ef2-d7a4-dac7922e3782"
      },
      "execution_count": null,
      "outputs": [
        {
          "output_type": "display_data",
          "data": {
            "text/plain": [
              "<Figure size 432x288 with 1 Axes>"
            ],
            "image/png": "[encoded data removed]"
          },
          "metadata": {
            "needs_background": "light"
          }
        }
      ]
    },
    {
      "cell_type": "markdown",
      "source": [
        "# 7.) Interpret the coefficients"
      ],
      "metadata": {
        "id": "z74Qs-WihZ6W"
      }
    },
    {
      "cell_type": "markdown",
      "source": [
        "The values of the coefficient show that there is a positive relationship between (age, bmi,children number,smoke or not) and the insurance charge. Espeically for the smoke, it has a strong positive impact on insurance charge. People who smoke will have higher charge. \n",
        "Sex seems to have no effect on the charge. \n",
        "People live in southwest trend to have a lower insurance charge than other places and people live in northeast trend to have a higher insurance charge. People live in other two regions have no effect on the charges.\n"
      ],
      "metadata": {
        "id": "jzP2EpCOpQAR"
      }
    },
    {
      "cell_type": "markdown",
      "source": [
        "# 8.) Compare in and out of sample MSE’s"
      ],
      "metadata": {
        "id": "d3nnFdxVhf0-"
      }
    },
    {
      "cell_type": "code",
      "source": [
        "#mod1.predict(\"in sample data\")\n",
        "#mod1.predict(\"out of sample data\")"
      ],
      "metadata": {
        "id": "3Cev9UoThgwd"
      },
      "execution_count": null,
      "outputs": []
    },
    {
      "cell_type": "code",
      "source": [
        "from sklearn.metrics import mean_squared_error\n",
        "in_y_pred = mod1.predict(np.array(in_data_scale))\n",
        "out_y_pred = mod1.predict(np.array(out_data_scale))\n",
        "out_sample_mse = mean_squared_error(out_y_pred,out_target)\n",
        "in_sample_mse = mean_squared_error(in_y_pred,in_target)"
      ],
      "metadata": {
        "id": "QxY0VeKghjwS"
      },
      "execution_count": null,
      "outputs": []
    },
    {
      "cell_type": "code",
      "source": [
        "out_sample_mse"
      ],
      "metadata": {
        "colab": {
          "base_uri": "https://localhost:8080/"
        },
        "id": "Hyt6V9vNbfdf",
        "outputId": "a69d4e1a-4cf3-4bbe-f087-50ffb2e8e5be"
      },
      "execution_count": null,
      "outputs": [
        {
          "output_type": "execute_result",
          "data": {
            "text/plain": [
              "37305097.62688038"
            ]
          },
          "metadata": {},
          "execution_count": 163
        }
      ]
    },
    {
      "cell_type": "code",
      "source": [
        "in_sample_mse"
      ],
      "metadata": {
        "colab": {
          "base_uri": "https://localhost:8080/"
        },
        "id": "A2IUJ6BWdas-",
        "outputId": "b6b428b5-9765-48a6-90a1-14aa00e44dd0"
      },
      "execution_count": null,
      "outputs": [
        {
          "output_type": "execute_result",
          "data": {
            "text/plain": [
              "36603102.01062052"
            ]
          },
          "metadata": {},
          "execution_count": 164
        }
      ]
    },
    {
      "cell_type": "code",
      "source": [],
      "metadata": {
        "id": "uTXKtPCHdbmq"
      },
      "execution_count": null,
      "outputs": []
    }
  ]
}