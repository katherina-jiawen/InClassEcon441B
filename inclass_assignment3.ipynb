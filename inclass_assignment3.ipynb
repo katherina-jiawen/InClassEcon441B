{
  "nbformat": 4,
  "nbformat_minor": 0,
  "metadata": {
    "colab": {
      "provenance": []
    },
    "kernelspec": {
      "name": "python3",
      "display_name": "Python 3"
    },
    "language_info": {
      "name": "python"
    }
  },
  "cells": [
    {
      "cell_type": "code",
      "execution_count": 1,
      "metadata": {
        "id": "uyv4S3ewbQUN"
      },
      "outputs": [],
      "source": [
        "import pandas as pd\n",
        "from google.colab import drive\n",
        "import matplotlib.pyplot as plt\n",
        "import numpy as np"
      ]
    },
    {
      "cell_type": "code",
      "source": [
        "drive.mount('/content/gdrive/', force_remount = True)"
      ],
      "metadata": {
        "colab": {
          "base_uri": "https://localhost:8080/"
        },
        "id": "QDQF8nRNbkyS",
        "outputId": "80115e04-bf8f-492d-894f-c1c0d03f8d8d"
      },
      "execution_count": 2,
      "outputs": [
        {
          "output_type": "stream",
          "name": "stdout",
          "text": [
            "Mounted at /content/gdrive/\n"
          ]
        }
      ]
    },
    {
      "cell_type": "code",
      "source": [
        "df = pd.read_csv('/content/gdrive/MyDrive/UCLA/Econ 441B/fraudTest.csv')"
      ],
      "metadata": {
        "id": "8Z3OANjgboNb"
      },
      "execution_count": 3,
      "outputs": []
    },
    {
      "cell_type": "code",
      "source": [
        "df"
      ],
      "metadata": {
        "colab": {
          "base_uri": "https://localhost:8080/",
          "height": 908
        },
        "id": "dF6Qacdtb3nj",
        "outputId": "cfae5a3c-f7b4-45d4-f3e5-b26158a6072c"
      },
      "execution_count": 4,
      "outputs": [
        {
          "output_type": "execute_result",
          "data": {
            "text/plain": [
              "        Unnamed: 0 trans_date_trans_time            cc_num  \\\n",
              "0                0   2020-06-21 12:14:25  2291163933867244   \n",
              "1                1   2020-06-21 12:14:33  3573030041201292   \n",
              "2                2   2020-06-21 12:14:53  3598215285024754   \n",
              "3                3   2020-06-21 12:15:15  3591919803438423   \n",
              "4                4   2020-06-21 12:15:17  3526826139003047   \n",
              "...            ...                   ...               ...   \n",
              "555714      555714   2020-12-31 23:59:07    30560609640617   \n",
              "555715      555715   2020-12-31 23:59:09  3556613125071656   \n",
              "555716      555716   2020-12-31 23:59:15  6011724471098086   \n",
              "555717      555717   2020-12-31 23:59:24     4079773899158   \n",
              "555718      555718   2020-12-31 23:59:34  4170689372027579   \n",
              "\n",
              "                                    merchant        category     amt    first  \\\n",
              "0                      fraud_Kirlin and Sons   personal_care    2.86     Jeff   \n",
              "1                       fraud_Sporer-Keebler   personal_care   29.84   Joanne   \n",
              "2       fraud_Swaniawski, Nitzsche and Welch  health_fitness   41.28   Ashley   \n",
              "3                          fraud_Haley Group        misc_pos   60.05    Brian   \n",
              "4                      fraud_Johnston-Casper          travel    3.19   Nathan   \n",
              "...                                      ...             ...     ...      ...   \n",
              "555714                 fraud_Reilly and Sons  health_fitness   43.77  Michael   \n",
              "555715                  fraud_Hoppe-Parisian       kids_pets  111.84     Jose   \n",
              "555716                       fraud_Rau-Robel       kids_pets   86.88      Ann   \n",
              "555717                 fraud_Breitenberg LLC          travel    7.99     Eric   \n",
              "555718                     fraud_Dare-Marvin   entertainment   38.13   Samuel   \n",
              "\n",
              "            last gender                       street  ...      lat      long  \\\n",
              "0        Elliott      M            351 Darlene Green  ...  33.9659  -80.9355   \n",
              "1       Williams      F             3638 Marsh Union  ...  40.3207 -110.4360   \n",
              "2          Lopez      F         9333 Valentine Point  ...  40.6729  -73.5365   \n",
              "3       Williams      M  32941 Krystal Mill Apt. 552  ...  28.5697  -80.8191   \n",
              "4         Massey      M     5783 Evan Roads Apt. 465  ...  44.2529  -85.0170   \n",
              "...          ...    ...                          ...  ...      ...       ...   \n",
              "555714     Olson      M          558 Michael Estates  ...  40.4931  -91.8912   \n",
              "555715   Vasquez      M          572 Davis Mountains  ...  29.0393  -95.4401   \n",
              "555716    Lawson      F   144 Evans Islands Apt. 683  ...  46.1966 -118.9017   \n",
              "555717   Preston      M   7020 Doyle Stream Apt. 951  ...  44.6255 -116.4493   \n",
              "555718      Frey      M     830 Myers Plaza Apt. 384  ...  35.6665  -97.4798   \n",
              "\n",
              "        city_pop                     job         dob  \\\n",
              "0         333497     Mechanical engineer  1968-03-19   \n",
              "1            302  Sales professional, IT  1990-01-17   \n",
              "2          34496       Librarian, public  1970-10-21   \n",
              "3          54767            Set designer  1987-07-25   \n",
              "4           1126      Furniture designer  1955-07-06   \n",
              "...          ...                     ...         ...   \n",
              "555714       519            Town planner  1966-02-13   \n",
              "555715     28739          Futures trader  1999-12-27   \n",
              "555716      3684                Musician  1981-11-29   \n",
              "555717       129            Cartographer  1965-12-15   \n",
              "555718    116001             Media buyer  1993-05-10   \n",
              "\n",
              "                               trans_num   unix_time  merch_lat  merch_long  \\\n",
              "0       2da90c7d74bd46a0caf3777415b3ebd3  1371816865  33.986391  -81.200714   \n",
              "1       324cc204407e99f51b0d6ca0055005e7  1371816873  39.450498 -109.960431   \n",
              "2       c81755dbbbea9d5c77f094348a7579be  1371816893  40.495810  -74.196111   \n",
              "3       2159175b9efe66dc301f149d3d5abf8c  1371816915  28.812398  -80.883061   \n",
              "4       57ff021bd3f328f8738bb535c302a31b  1371816917  44.959148  -85.884734   \n",
              "...                                  ...         ...        ...         ...   \n",
              "555714  9b1f753c79894c9f4b71f04581835ada  1388534347  39.946837  -91.333331   \n",
              "555715  2090647dac2c89a1d86c514c427f5b91  1388534349  29.661049  -96.186633   \n",
              "555716  6c5b7c8add471975aa0fec023b2e8408  1388534355  46.658340 -119.715054   \n",
              "555717  14392d723bb7737606b2700ac791b7aa  1388534364  44.470525 -117.080888   \n",
              "555718  1765bb45b3aa3224b4cdcb6e7a96cee3  1388534374  36.210097  -97.036372   \n",
              "\n",
              "        is_fraud  \n",
              "0              0  \n",
              "1              0  \n",
              "2              0  \n",
              "3              0  \n",
              "4              0  \n",
              "...          ...  \n",
              "555714         0  \n",
              "555715         0  \n",
              "555716         0  \n",
              "555717         0  \n",
              "555718         0  \n",
              "\n",
              "[555719 rows x 23 columns]"
            ],
            "text/html": [
              "\n",
              "  <div id=\"df-df3a3d97-4a77-4bfd-b568-b6214f91cbba\">\n",
              "    <div class=\"colab-df-container\">\n",
              "      <div>\n",
              "<style scoped>\n",
              "    .dataframe tbody tr th:only-of-type {\n",
              "        vertical-align: middle;\n",
              "    }\n",
              "\n",
              "    .dataframe tbody tr th {\n",
              "        vertical-align: top;\n",
              "    }\n",
              "\n",
              "    .dataframe thead th {\n",
              "        text-align: right;\n",
              "    }\n",
              "</style>\n",
              "<table border=\"1\" class=\"dataframe\">\n",
              "  <thead>\n",
              "    <tr style=\"text-align: right;\">\n",
              "      <th></th>\n",
              "      <th>Unnamed: 0</th>\n",
              "      <th>trans_date_trans_time</th>\n",
              "      <th>cc_num</th>\n",
              "      <th>merchant</th>\n",
              "      <th>category</th>\n",
              "      <th>amt</th>\n",
              "      <th>first</th>\n",
              "      <th>last</th>\n",
              "      <th>gender</th>\n",
              "      <th>street</th>\n",
              "      <th>...</th>\n",
              "      <th>lat</th>\n",
              "      <th>long</th>\n",
              "      <th>city_pop</th>\n",
              "      <th>job</th>\n",
              "      <th>dob</th>\n",
              "      <th>trans_num</th>\n",
              "      <th>unix_time</th>\n",
              "      <th>merch_lat</th>\n",
              "      <th>merch_long</th>\n",
              "      <th>is_fraud</th>\n",
              "    </tr>\n",
              "  </thead>\n",
              "  <tbody>\n",
              "    <tr>\n",
              "      <th>0</th>\n",
              "      <td>0</td>\n",
              "      <td>2020-06-21 12:14:25</td>\n",
              "      <td>2291163933867244</td>\n",
              "      <td>fraud_Kirlin and Sons</td>\n",
              "      <td>personal_care</td>\n",
              "      <td>2.86</td>\n",
              "      <td>Jeff</td>\n",
              "      <td>Elliott</td>\n",
              "      <td>M</td>\n",
              "      <td>351 Darlene Green</td>\n",
              "      <td>...</td>\n",
              "      <td>33.9659</td>\n",
              "      <td>-80.9355</td>\n",
              "      <td>333497</td>\n",
              "      <td>Mechanical engineer</td>\n",
              "      <td>1968-03-19</td>\n",
              "      <td>2da90c7d74bd46a0caf3777415b3ebd3</td>\n",
              "      <td>1371816865</td>\n",
              "      <td>33.986391</td>\n",
              "      <td>-81.200714</td>\n",
              "      <td>0</td>\n",
              "    </tr>\n",
              "    <tr>\n",
              "      <th>1</th>\n",
              "      <td>1</td>\n",
              "      <td>2020-06-21 12:14:33</td>\n",
              "      <td>3573030041201292</td>\n",
              "      <td>fraud_Sporer-Keebler</td>\n",
              "      <td>personal_care</td>\n",
              "      <td>29.84</td>\n",
              "      <td>Joanne</td>\n",
              "      <td>Williams</td>\n",
              "      <td>F</td>\n",
              "      <td>3638 Marsh Union</td>\n",
              "      <td>...</td>\n",
              "      <td>40.3207</td>\n",
              "      <td>-110.4360</td>\n",
              "      <td>302</td>\n",
              "      <td>Sales professional, IT</td>\n",
              "      <td>1990-01-17</td>\n",
              "      <td>324cc204407e99f51b0d6ca0055005e7</td>\n",
              "      <td>1371816873</td>\n",
              "      <td>39.450498</td>\n",
              "      <td>-109.960431</td>\n",
              "      <td>0</td>\n",
              "    </tr>\n",
              "    <tr>\n",
              "      <th>2</th>\n",
              "      <td>2</td>\n",
              "      <td>2020-06-21 12:14:53</td>\n",
              "      <td>3598215285024754</td>\n",
              "      <td>fraud_Swaniawski, Nitzsche and Welch</td>\n",
              "      <td>health_fitness</td>\n",
              "      <td>41.28</td>\n",
              "      <td>Ashley</td>\n",
              "      <td>Lopez</td>\n",
              "      <td>F</td>\n",
              "      <td>9333 Valentine Point</td>\n",
              "      <td>...</td>\n",
              "      <td>40.6729</td>\n",
              "      <td>-73.5365</td>\n",
              "      <td>34496</td>\n",
              "      <td>Librarian, public</td>\n",
              "      <td>1970-10-21</td>\n",
              "      <td>c81755dbbbea9d5c77f094348a7579be</td>\n",
              "      <td>1371816893</td>\n",
              "      <td>40.495810</td>\n",
              "      <td>-74.196111</td>\n",
              "      <td>0</td>\n",
              "    </tr>\n",
              "    <tr>\n",
              "      <th>3</th>\n",
              "      <td>3</td>\n",
              "      <td>2020-06-21 12:15:15</td>\n",
              "      <td>3591919803438423</td>\n",
              "      <td>fraud_Haley Group</td>\n",
              "      <td>misc_pos</td>\n",
              "      <td>60.05</td>\n",
              "      <td>Brian</td>\n",
              "      <td>Williams</td>\n",
              "      <td>M</td>\n",
              "      <td>32941 Krystal Mill Apt. 552</td>\n",
              "      <td>...</td>\n",
              "      <td>28.5697</td>\n",
              "      <td>-80.8191</td>\n",
              "      <td>54767</td>\n",
              "      <td>Set designer</td>\n",
              "      <td>1987-07-25</td>\n",
              "      <td>2159175b9efe66dc301f149d3d5abf8c</td>\n",
              "      <td>1371816915</td>\n",
              "      <td>28.812398</td>\n",
              "      <td>-80.883061</td>\n",
              "      <td>0</td>\n",
              "    </tr>\n",
              "    <tr>\n",
              "      <th>4</th>\n",
              "      <td>4</td>\n",
              "      <td>2020-06-21 12:15:17</td>\n",
              "      <td>3526826139003047</td>\n",
              "      <td>fraud_Johnston-Casper</td>\n",
              "      <td>travel</td>\n",
              "      <td>3.19</td>\n",
              "      <td>Nathan</td>\n",
              "      <td>Massey</td>\n",
              "      <td>M</td>\n",
              "      <td>5783 Evan Roads Apt. 465</td>\n",
              "      <td>...</td>\n",
              "      <td>44.2529</td>\n",
              "      <td>-85.0170</td>\n",
              "      <td>1126</td>\n",
              "      <td>Furniture designer</td>\n",
              "      <td>1955-07-06</td>\n",
              "      <td>57ff021bd3f328f8738bb535c302a31b</td>\n",
              "      <td>1371816917</td>\n",
              "      <td>44.959148</td>\n",
              "      <td>-85.884734</td>\n",
              "      <td>0</td>\n",
              "    </tr>\n",
              "    <tr>\n",
              "      <th>...</th>\n",
              "      <td>...</td>\n",
              "      <td>...</td>\n",
              "      <td>...</td>\n",
              "      <td>...</td>\n",
              "      <td>...</td>\n",
              "      <td>...</td>\n",
              "      <td>...</td>\n",
              "      <td>...</td>\n",
              "      <td>...</td>\n",
              "      <td>...</td>\n",
              "      <td>...</td>\n",
              "      <td>...</td>\n",
              "      <td>...</td>\n",
              "      <td>...</td>\n",
              "      <td>...</td>\n",
              "      <td>...</td>\n",
              "      <td>...</td>\n",
              "      <td>...</td>\n",
              "      <td>...</td>\n",
              "      <td>...</td>\n",
              "      <td>...</td>\n",
              "    </tr>\n",
              "    <tr>\n",
              "      <th>555714</th>\n",
              "      <td>555714</td>\n",
              "      <td>2020-12-31 23:59:07</td>\n",
              "      <td>30560609640617</td>\n",
              "      <td>fraud_Reilly and Sons</td>\n",
              "      <td>health_fitness</td>\n",
              "      <td>43.77</td>\n",
              "      <td>Michael</td>\n",
              "      <td>Olson</td>\n",
              "      <td>M</td>\n",
              "      <td>558 Michael Estates</td>\n",
              "      <td>...</td>\n",
              "      <td>40.4931</td>\n",
              "      <td>-91.8912</td>\n",
              "      <td>519</td>\n",
              "      <td>Town planner</td>\n",
              "      <td>1966-02-13</td>\n",
              "      <td>9b1f753c79894c9f4b71f04581835ada</td>\n",
              "      <td>1388534347</td>\n",
              "      <td>39.946837</td>\n",
              "      <td>-91.333331</td>\n",
              "      <td>0</td>\n",
              "    </tr>\n",
              "    <tr>\n",
              "      <th>555715</th>\n",
              "      <td>555715</td>\n",
              "      <td>2020-12-31 23:59:09</td>\n",
              "      <td>3556613125071656</td>\n",
              "      <td>fraud_Hoppe-Parisian</td>\n",
              "      <td>kids_pets</td>\n",
              "      <td>111.84</td>\n",
              "      <td>Jose</td>\n",
              "      <td>Vasquez</td>\n",
              "      <td>M</td>\n",
              "      <td>572 Davis Mountains</td>\n",
              "      <td>...</td>\n",
              "      <td>29.0393</td>\n",
              "      <td>-95.4401</td>\n",
              "      <td>28739</td>\n",
              "      <td>Futures trader</td>\n",
              "      <td>1999-12-27</td>\n",
              "      <td>2090647dac2c89a1d86c514c427f5b91</td>\n",
              "      <td>1388534349</td>\n",
              "      <td>29.661049</td>\n",
              "      <td>-96.186633</td>\n",
              "      <td>0</td>\n",
              "    </tr>\n",
              "    <tr>\n",
              "      <th>555716</th>\n",
              "      <td>555716</td>\n",
              "      <td>2020-12-31 23:59:15</td>\n",
              "      <td>6011724471098086</td>\n",
              "      <td>fraud_Rau-Robel</td>\n",
              "      <td>kids_pets</td>\n",
              "      <td>86.88</td>\n",
              "      <td>Ann</td>\n",
              "      <td>Lawson</td>\n",
              "      <td>F</td>\n",
              "      <td>144 Evans Islands Apt. 683</td>\n",
              "      <td>...</td>\n",
              "      <td>46.1966</td>\n",
              "      <td>-118.9017</td>\n",
              "      <td>3684</td>\n",
              "      <td>Musician</td>\n",
              "      <td>1981-11-29</td>\n",
              "      <td>6c5b7c8add471975aa0fec023b2e8408</td>\n",
              "      <td>1388534355</td>\n",
              "      <td>46.658340</td>\n",
              "      <td>-119.715054</td>\n",
              "      <td>0</td>\n",
              "    </tr>\n",
              "    <tr>\n",
              "      <th>555717</th>\n",
              "      <td>555717</td>\n",
              "      <td>2020-12-31 23:59:24</td>\n",
              "      <td>4079773899158</td>\n",
              "      <td>fraud_Breitenberg LLC</td>\n",
              "      <td>travel</td>\n",
              "      <td>7.99</td>\n",
              "      <td>Eric</td>\n",
              "      <td>Preston</td>\n",
              "      <td>M</td>\n",
              "      <td>7020 Doyle Stream Apt. 951</td>\n",
              "      <td>...</td>\n",
              "      <td>44.6255</td>\n",
              "      <td>-116.4493</td>\n",
              "      <td>129</td>\n",
              "      <td>Cartographer</td>\n",
              "      <td>1965-12-15</td>\n",
              "      <td>14392d723bb7737606b2700ac791b7aa</td>\n",
              "      <td>1388534364</td>\n",
              "      <td>44.470525</td>\n",
              "      <td>-117.080888</td>\n",
              "      <td>0</td>\n",
              "    </tr>\n",
              "    <tr>\n",
              "      <th>555718</th>\n",
              "      <td>555718</td>\n",
              "      <td>2020-12-31 23:59:34</td>\n",
              "      <td>4170689372027579</td>\n",
              "      <td>fraud_Dare-Marvin</td>\n",
              "      <td>entertainment</td>\n",
              "      <td>38.13</td>\n",
              "      <td>Samuel</td>\n",
              "      <td>Frey</td>\n",
              "      <td>M</td>\n",
              "      <td>830 Myers Plaza Apt. 384</td>\n",
              "      <td>...</td>\n",
              "      <td>35.6665</td>\n",
              "      <td>-97.4798</td>\n",
              "      <td>116001</td>\n",
              "      <td>Media buyer</td>\n",
              "      <td>1993-05-10</td>\n",
              "      <td>1765bb45b3aa3224b4cdcb6e7a96cee3</td>\n",
              "      <td>1388534374</td>\n",
              "      <td>36.210097</td>\n",
              "      <td>-97.036372</td>\n",
              "      <td>0</td>\n",
              "    </tr>\n",
              "  </tbody>\n",
              "</table>\n",
              "<p>555719 rows × 23 columns</p>\n",
              "</div>\n",
              "      <button class=\"colab-df-convert\" onclick=\"convertToInteractive('df-df3a3d97-4a77-4bfd-b568-b6214f91cbba')\"\n",
              "              title=\"Convert this dataframe to an interactive table.\"\n",
              "              style=\"display:none;\">\n",
              "        \n",
              "  <svg xmlns=\"http://www.w3.org/2000/svg\" height=\"24px\"viewBox=\"0 0 24 24\"\n",
              "       width=\"24px\">\n",
              "    <path d=\"M0 0h24v24H0V0z\" fill=\"none\"/>\n",
              "    <path d=\"M18.56 5.44l.94 2.06.94-2.06 2.06-.94-2.06-.94-.94-2.06-.94 2.06-2.06.94zm-11 1L8.5 8.5l.94-2.06 2.06-.94-2.06-.94L8.5 2.5l-.94 2.06-2.06.94zm10 10l.94 2.06.94-2.06 2.06-.94-2.06-.94-.94-2.06-.94 2.06-2.06.94z\"/><path d=\"M17.41 7.96l-1.37-1.37c-.4-.4-.92-.59-1.43-.59-.52 0-1.04.2-1.43.59L10.3 9.45l-7.72 7.72c-.78.78-.78 2.05 0 2.83L4 21.41c.39.39.9.59 1.41.59.51 0 1.02-.2 1.41-.59l7.78-7.78 2.81-2.81c.8-.78.8-2.07 0-2.86zM5.41 20L4 18.59l7.72-7.72 1.47 1.35L5.41 20z\"/>\n",
              "  </svg>\n",
              "      </button>\n",
              "      \n",
              "  <style>\n",
              "    .colab-df-container {\n",
              "      display:flex;\n",
              "      flex-wrap:wrap;\n",
              "      gap: 12px;\n",
              "    }\n",
              "\n",
              "    .colab-df-convert {\n",
              "      background-color: #E8F0FE;\n",
              "      border: none;\n",
              "      border-radius: 50%;\n",
              "      cursor: pointer;\n",
              "      display: none;\n",
              "      fill: #1967D2;\n",
              "      height: 32px;\n",
              "      padding: 0 0 0 0;\n",
              "      width: 32px;\n",
              "    }\n",
              "\n",
              "    .colab-df-convert:hover {\n",
              "      background-color: #E2EBFA;\n",
              "      box-shadow: 0px 1px 2px rgba(60, 64, 67, 0.3), 0px 1px 3px 1px rgba(60, 64, 67, 0.15);\n",
              "      fill: #174EA6;\n",
              "    }\n",
              "\n",
              "    [theme=dark] .colab-df-convert {\n",
              "      background-color: #3B4455;\n",
              "      fill: #D2E3FC;\n",
              "    }\n",
              "\n",
              "    [theme=dark] .colab-df-convert:hover {\n",
              "      background-color: #434B5C;\n",
              "      box-shadow: 0px 1px 3px 1px rgba(0, 0, 0, 0.15);\n",
              "      filter: drop-shadow(0px 1px 2px rgba(0, 0, 0, 0.3));\n",
              "      fill: #FFFFFF;\n",
              "    }\n",
              "  </style>\n",
              "\n",
              "      <script>\n",
              "        const buttonEl =\n",
              "          document.querySelector('#df-df3a3d97-4a77-4bfd-b568-b6214f91cbba button.colab-df-convert');\n",
              "        buttonEl.style.display =\n",
              "          google.colab.kernel.accessAllowed ? 'block' : 'none';\n",
              "\n",
              "        async function convertToInteractive(key) {\n",
              "          const element = document.querySelector('#df-df3a3d97-4a77-4bfd-b568-b6214f91cbba');\n",
              "          const dataTable =\n",
              "            await google.colab.kernel.invokeFunction('convertToInteractive',\n",
              "                                                     [key], {});\n",
              "          if (!dataTable) return;\n",
              "\n",
              "          const docLinkHtml = 'Like what you see? Visit the ' +\n",
              "            '<a target=\"_blank\" href=https://colab.research.google.com/notebooks/data_table.ipynb>data table notebook</a>'\n",
              "            + ' to learn more about interactive tables.';\n",
              "          element.innerHTML = '';\n",
              "          dataTable['output_type'] = 'display_data';\n",
              "          await google.colab.output.renderOutput(dataTable, element);\n",
              "          const docLink = document.createElement('div');\n",
              "          docLink.innerHTML = docLinkHtml;\n",
              "          element.appendChild(docLink);\n",
              "        }\n",
              "      </script>\n",
              "    </div>\n",
              "  </div>\n",
              "  "
            ]
          },
          "metadata": {},
          "execution_count": 4
        }
      ]
    },
    {
      "cell_type": "code",
      "source": [
        "df_select = df[[\"trans_date_trans_time\", \"category\", \"amt\", \"city_pop\", \"is_fraud\"]]\n",
        "df_select[\"trans_date_trans_time\"] = pd.to_datetime(df_select[\"trans_date_trans_time\"])\n",
        "df_select[\"time_var\"] = [i.second for i in df_select[\"trans_date_trans_time\"]]\n",
        "X = pd.get_dummies(df_select, [\"category\"]).drop([\"trans_date_trans_time\", \"is_fraud\"], axis = 1)\n",
        "y = df[\"is_fraud\"]"
      ],
      "metadata": {
        "colab": {
          "base_uri": "https://localhost:8080/"
        },
        "id": "XaTQg29kemNp",
        "outputId": "55b9d76a-5043-4253-d6d9-daa9e3977e64"
      },
      "execution_count": 7,
      "outputs": [
        {
          "output_type": "stream",
          "name": "stderr",
          "text": [
            "<ipython-input-7-447c4c88ddae>:2: SettingWithCopyWarning: \n",
            "A value is trying to be set on a copy of a slice from a DataFrame.\n",
            "Try using .loc[row_indexer,col_indexer] = value instead\n",
            "\n",
            "See the caveats in the documentation: https://pandas.pydata.org/pandas-docs/stable/user_guide/indexing.html#returning-a-view-versus-a-copy\n",
            "  df_select[\"trans_date_trans_time\"] = pd.to_datetime(df_select[\"trans_date_trans_time\"])\n",
            "<ipython-input-7-447c4c88ddae>:3: SettingWithCopyWarning: \n",
            "A value is trying to be set on a copy of a slice from a DataFrame.\n",
            "Try using .loc[row_indexer,col_indexer] = value instead\n",
            "\n",
            "See the caveats in the documentation: https://pandas.pydata.org/pandas-docs/stable/user_guide/indexing.html#returning-a-view-versus-a-copy\n",
            "  df_select[\"time_var\"] = [i.second for i in df_select[\"trans_date_trans_time\"]]\n"
          ]
        }
      ]
    },
    {
      "cell_type": "code",
      "source": [
        "# 1.) Use scikit learn preprocessing to split the data into 70/30 in out of sample"
      ],
      "metadata": {
        "id": "3HaRUjTpb6g4"
      },
      "execution_count": 8,
      "outputs": []
    },
    {
      "cell_type": "code",
      "source": [
        "from sklearn.model_selection import train_test_split"
      ],
      "metadata": {
        "id": "TDNeD2fXb_Gt"
      },
      "execution_count": 9,
      "outputs": []
    },
    {
      "cell_type": "code",
      "source": [
        "X_train,X_test,y_train,y_test = train_test_split(X,y,test_size = 0.3)"
      ],
      "metadata": {
        "id": "_b8pNTyodEzt"
      },
      "execution_count": 22,
      "outputs": []
    },
    {
      "cell_type": "code",
      "source": [
        "# 2.) Make three sets of training data (Oversample, Undersample and SMOTE)"
      ],
      "metadata": {
        "id": "Z_942A0Oer4G"
      },
      "execution_count": 23,
      "outputs": []
    },
    {
      "cell_type": "code",
      "source": [
        "from imblearn.over_sampling import RandomOverSampler\n",
        "from imblearn.under_sampling import RandomUnderSampler\n",
        "from imblearn.over_sampling import SMOTE"
      ],
      "metadata": {
        "id": "SB6EHPe0ezxY"
      },
      "execution_count": 27,
      "outputs": []
    },
    {
      "cell_type": "code",
      "source": [
        "ros = RandomOverSampler()\n",
        "over_X, over_y = ros.fit_resample(X_train, y_train)"
      ],
      "metadata": {
        "id": "BUmtSKRpe9j8"
      },
      "execution_count": 25,
      "outputs": []
    },
    {
      "cell_type": "code",
      "source": [
        "rus = RandomUnderSampler()\n",
        "under_X, under_y = rus.fit_resample(X_train,y_train)"
      ],
      "metadata": {
        "id": "2FtHq6ZnfeJ4"
      },
      "execution_count": 26,
      "outputs": []
    },
    {
      "cell_type": "code",
      "source": [
        "oversample = SMOTE()\n",
        "SMOTE_X, SMOTE_y = oversample.fit_resample(X_train,y_train)"
      ],
      "metadata": {
        "id": "HAiJorzUgxoD"
      },
      "execution_count": 28,
      "outputs": []
    },
    {
      "cell_type": "code",
      "source": [
        "# 3.) Train three logistic regression models "
      ],
      "metadata": {
        "id": "HOysDrKJhDiP"
      },
      "execution_count": 29,
      "outputs": []
    },
    {
      "cell_type": "code",
      "source": [
        "from sklearn.linear_model import LogisticRegression"
      ],
      "metadata": {
        "id": "fjEP2pawhJhm"
      },
      "execution_count": 30,
      "outputs": []
    },
    {
      "cell_type": "code",
      "source": [
        "over_log = LogisticRegression().fit(over_X, over_y)"
      ],
      "metadata": {
        "id": "08XuFg01hYNR"
      },
      "execution_count": 32,
      "outputs": []
    },
    {
      "cell_type": "code",
      "source": [
        "under_log = LogisticRegression().fit(under_X, under_y)"
      ],
      "metadata": {
        "id": "ZruoW8RmhfNN"
      },
      "execution_count": 33,
      "outputs": []
    },
    {
      "cell_type": "code",
      "source": [
        "smote_mod = LogisticRegression().fit(SMOTE_X, SMOTE_y)"
      ],
      "metadata": {
        "id": "K4yQpwQkhuX3"
      },
      "execution_count": 34,
      "outputs": []
    },
    {
      "cell_type": "code",
      "source": [
        "# 4.) Test the three models"
      ],
      "metadata": {
        "id": "ZUi8HGAth1a3"
      },
      "execution_count": 35,
      "outputs": []
    },
    {
      "cell_type": "code",
      "source": [
        "from sklearn.metrics import accuracy_score"
      ],
      "metadata": {
        "id": "X3fytWo8h8cR"
      },
      "execution_count": 36,
      "outputs": []
    },
    {
      "cell_type": "code",
      "source": [
        "y_pred_over= over_log.predict(X_test)"
      ],
      "metadata": {
        "id": "MemH_jl_iTw-"
      },
      "execution_count": 38,
      "outputs": []
    },
    {
      "cell_type": "code",
      "source": [
        "print(\"Accuracy:\", accuracy_score(y_test, y_pred_over))"
      ],
      "metadata": {
        "colab": {
          "base_uri": "https://localhost:8080/"
        },
        "id": "jr1bh52yiWXG",
        "outputId": "2e244141-36e5-4c9b-8ee1-5b1bc7b7c116"
      },
      "execution_count": 39,
      "outputs": [
        {
          "output_type": "stream",
          "name": "stdout",
          "text": [
            "Accuracy: 0.8112778617529212\n"
          ]
        }
      ]
    },
    {
      "cell_type": "code",
      "source": [
        "y_pred_under = under_log.predict(X_test)"
      ],
      "metadata": {
        "id": "uZFBUbfnizjw"
      },
      "execution_count": 40,
      "outputs": []
    },
    {
      "cell_type": "code",
      "source": [
        "print(\"Accuracy:\", accuracy_score(y_test, y_pred_under))"
      ],
      "metadata": {
        "colab": {
          "base_uri": "https://localhost:8080/"
        },
        "id": "fxLz1wCXjGZR",
        "outputId": "3f86d140-0be5-421d-bc4a-67c88fa18a2f"
      },
      "execution_count": 41,
      "outputs": [
        {
          "output_type": "stream",
          "name": "stdout",
          "text": [
            "Accuracy: 0.8093644281292738\n"
          ]
        }
      ]
    },
    {
      "cell_type": "code",
      "source": [
        "y_pred_smote = smote_mod.predict(X_test)"
      ],
      "metadata": {
        "id": "Lpzj0boXjJDb"
      },
      "execution_count": 42,
      "outputs": []
    },
    {
      "cell_type": "code",
      "source": [
        "print(\"Accuracy:\", accuracy_score(y_test, y_pred_smote))"
      ],
      "metadata": {
        "colab": {
          "base_uri": "https://localhost:8080/"
        },
        "id": "iIbKtdKsjsiW",
        "outputId": "b66e000d-942e-4aa7-9acc-a091b604ea6c"
      },
      "execution_count": 43,
      "outputs": [
        {
          "output_type": "stream",
          "name": "stdout",
          "text": [
            "Accuracy: 0.8175939921783152\n"
          ]
        }
      ]
    },
    {
      "cell_type": "code",
      "source": [
        "# 5.) Which performed best in Out of Sample metrics?"
      ],
      "metadata": {
        "id": "chN8B6Knju0a"
      },
      "execution_count": 44,
      "outputs": []
    },
    {
      "cell_type": "code",
      "source": [
        "# SMOTE performed best since it had the highest accuracy. "
      ],
      "metadata": {
        "id": "JXpmtWtIjyqT"
      },
      "execution_count": 45,
      "outputs": []
    },
    {
      "cell_type": "code",
      "source": [
        "# 6.) Pick two features and plot the two classes before and after SMOTE."
      ],
      "metadata": {
        "id": "IlHagdAcj50L"
      },
      "execution_count": 46,
      "outputs": []
    },
    {
      "cell_type": "code",
      "source": [
        "raw_temp=pd.concat([X_train,y_train],axis=1)"
      ],
      "metadata": {
        "id": "oGknrD3rj7gO"
      },
      "execution_count": 48,
      "outputs": []
    },
    {
      "cell_type": "code",
      "source": [
        "plt.scatter(raw_temp[raw_temp[\"is_fraud\"]==1][\"amt\"],raw_temp[raw_temp[\"is_fraud\"]==1][\"city_pop\"])\n",
        "plt.scatter(raw_temp[raw_temp[\"is_fraud\"]==0][\"amt\"],raw_temp[raw_temp[\"is_fraud\"]==0][\"city_pop\"])\n",
        "plt.legend([\"Fraud\",\"Not Fraud\"])\n",
        "plt.xlabel(\"Amount\")\n",
        "plt.ylabel(\"Population\")\n",
        "plt.show()"
      ],
      "metadata": {
        "colab": {
          "base_uri": "https://localhost:8080/",
          "height": 290
        },
        "id": "M3reyYlPlMMv",
        "outputId": "2e499ad4-a4f0-4669-b9e6-0800cc3afd25"
      },
      "execution_count": 49,
      "outputs": [
        {
          "output_type": "display_data",
          "data": {
            "text/plain": [
              "<Figure size 432x288 with 1 Axes>"
            ],
            "image/png": "[encoded data removed]"
          },
          "metadata": {
            "needs_background": "light"
          }
        }
      ]
    },
    {
      "cell_type": "code",
      "source": [
        "raw_temp2=pd.concat([SMOTE_X, SMOTE_y],axis=1)"
      ],
      "metadata": {
        "id": "kPfALFZ4lTXZ"
      },
      "execution_count": 50,
      "outputs": []
    },
    {
      "cell_type": "code",
      "source": [
        "plt.scatter(raw_temp2[raw_temp2[\"is_fraud\"]==1][\"amt\"],raw_temp2[raw_temp2[\"is_fraud\"]==1][\"city_pop\"])\n",
        "plt.scatter(raw_temp2[raw_temp2[\"is_fraud\"]==0][\"amt\"],raw_temp2[raw_temp2[\"is_fraud\"]==0][\"city_pop\"])\n",
        "plt.legend([\"Fraud\",\"Not Fraud\"])\n",
        "plt.xlabel(\"Amount\")\n",
        "plt.ylabel(\"Population\")\n",
        "plt.show()"
      ],
      "metadata": {
        "colab": {
          "base_uri": "https://localhost:8080/",
          "height": 290
        },
        "id": "AWW09qAulgVI",
        "outputId": "a65e70c5-d15a-4a92-d797-861a53a2fad3"
      },
      "execution_count": 51,
      "outputs": [
        {
          "output_type": "display_data",
          "data": {
            "text/plain": [
              "<Figure size 432x288 with 1 Axes>"
            ],
            "image/png": "[encoded data removed]"
          },
          "metadata": {
            "needs_background": "light"
          }
        }
      ]
    },
    {
      "cell_type": "code",
      "source": [],
      "metadata": {
        "id": "ZDd0Ehlyllj6"
      },
      "execution_count": null,
      "outputs": []
    },
    {
      "cell_type": "code",
      "source": [],
      "metadata": {
        "id": "LhOdyDGllq0K"
      },
      "execution_count": null,
      "outputs": []
    }
  ]
}